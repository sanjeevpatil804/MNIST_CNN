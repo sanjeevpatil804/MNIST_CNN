{
  "nbformat": 4,
  "nbformat_minor": 0,
  "metadata": {
    "colab": {
      "provenance": []
    },
    "kernelspec": {
      "name": "python3",
      "display_name": "Python 3"
    },
    "language_info": {
      "name": "python"
    },
    "accelerator": "GPU",
    "gpuClass": "standard"
  },
  "cells": [
    {
      "cell_type": "markdown",
      "source": [
        "**Mnist using CNN**"
      ],
      "metadata": {
        "id": "2UmDITJevZCX"
      }
    },
    {
      "cell_type": "code",
      "source": [
        "import numpy as np\n",
        "import pandas as pd\n",
        "import matplotlib.pyplot as plt\n",
        "%matplotlib inline\n",
        "import tensorflow as tf\n",
        "import keras\n",
        "from keras.models import Sequential\n",
        "from tensorflow.keras.optimizers import Adam\n",
        "from tensorflow.keras.utils import to_categorical, plot_model\n",
        "from keras import backend as k\n",
        "from keras.layers import Dense,Activation,Flatten\n",
        "from keras.layers.convolutional import Conv2D, MaxPooling2D\n",
        "import random\n",
        "random.seed(0)\n",
        "\n",
        "import warnings\n",
        "warnings.filterwarnings(\"ignore\")\n",
        "\n"
      ],
      "metadata": {
        "id": "1aOLIKLuvbpz"
      },
      "execution_count": 53,
      "outputs": []
    },
    {
      "cell_type": "code",
      "source": [
        "from tensorflow.keras.datasets import mnist\n",
        "\n",
        "(xtrain,ytrain),(xtest,ytest)=mnist.load_data()"
      ],
      "metadata": {
        "colab": {
          "base_uri": "https://localhost:8080/"
        },
        "id": "4ZYHr_F9wkx5",
        "outputId": "05515520-3f3e-45f6-adef-12f9aee7615d"
      },
      "execution_count": 6,
      "outputs": [
        {
          "output_type": "stream",
          "name": "stdout",
          "text": [
            "Downloading data from https://storage.googleapis.com/tensorflow/tf-keras-datasets/mnist.npz\n",
            "11490434/11490434 [==============================] - 2s 0us/step\n"
          ]
        }
      ]
    },
    {
      "cell_type": "code",
      "source": [
        "xtrain"
      ],
      "metadata": {
        "colab": {
          "base_uri": "https://localhost:8080/"
        },
        "id": "AIBFPN7YxShL",
        "outputId": "7b601f5d-55e8-465a-8e3d-3d765511ab00"
      },
      "execution_count": 7,
      "outputs": [
        {
          "output_type": "execute_result",
          "data": {
            "text/plain": [
              "array([[[0, 0, 0, ..., 0, 0, 0],\n",
              "        [0, 0, 0, ..., 0, 0, 0],\n",
              "        [0, 0, 0, ..., 0, 0, 0],\n",
              "        ...,\n",
              "        [0, 0, 0, ..., 0, 0, 0],\n",
              "        [0, 0, 0, ..., 0, 0, 0],\n",
              "        [0, 0, 0, ..., 0, 0, 0]],\n",
              "\n",
              "       [[0, 0, 0, ..., 0, 0, 0],\n",
              "        [0, 0, 0, ..., 0, 0, 0],\n",
              "        [0, 0, 0, ..., 0, 0, 0],\n",
              "        ...,\n",
              "        [0, 0, 0, ..., 0, 0, 0],\n",
              "        [0, 0, 0, ..., 0, 0, 0],\n",
              "        [0, 0, 0, ..., 0, 0, 0]],\n",
              "\n",
              "       [[0, 0, 0, ..., 0, 0, 0],\n",
              "        [0, 0, 0, ..., 0, 0, 0],\n",
              "        [0, 0, 0, ..., 0, 0, 0],\n",
              "        ...,\n",
              "        [0, 0, 0, ..., 0, 0, 0],\n",
              "        [0, 0, 0, ..., 0, 0, 0],\n",
              "        [0, 0, 0, ..., 0, 0, 0]],\n",
              "\n",
              "       ...,\n",
              "\n",
              "       [[0, 0, 0, ..., 0, 0, 0],\n",
              "        [0, 0, 0, ..., 0, 0, 0],\n",
              "        [0, 0, 0, ..., 0, 0, 0],\n",
              "        ...,\n",
              "        [0, 0, 0, ..., 0, 0, 0],\n",
              "        [0, 0, 0, ..., 0, 0, 0],\n",
              "        [0, 0, 0, ..., 0, 0, 0]],\n",
              "\n",
              "       [[0, 0, 0, ..., 0, 0, 0],\n",
              "        [0, 0, 0, ..., 0, 0, 0],\n",
              "        [0, 0, 0, ..., 0, 0, 0],\n",
              "        ...,\n",
              "        [0, 0, 0, ..., 0, 0, 0],\n",
              "        [0, 0, 0, ..., 0, 0, 0],\n",
              "        [0, 0, 0, ..., 0, 0, 0]],\n",
              "\n",
              "       [[0, 0, 0, ..., 0, 0, 0],\n",
              "        [0, 0, 0, ..., 0, 0, 0],\n",
              "        [0, 0, 0, ..., 0, 0, 0],\n",
              "        ...,\n",
              "        [0, 0, 0, ..., 0, 0, 0],\n",
              "        [0, 0, 0, ..., 0, 0, 0],\n",
              "        [0, 0, 0, ..., 0, 0, 0]]], dtype=uint8)"
            ]
          },
          "metadata": {},
          "execution_count": 7
        }
      ]
    },
    {
      "cell_type": "code",
      "source": [
        "ytrain"
      ],
      "metadata": {
        "colab": {
          "base_uri": "https://localhost:8080/"
        },
        "id": "TCFet-qlxdcv",
        "outputId": "d59514db-baee-44d2-a0fc-f80a08ce30ec"
      },
      "execution_count": 8,
      "outputs": [
        {
          "output_type": "execute_result",
          "data": {
            "text/plain": [
              "array([5, 0, 4, ..., 5, 6, 8], dtype=uint8)"
            ]
          },
          "metadata": {},
          "execution_count": 8
        }
      ]
    },
    {
      "cell_type": "code",
      "source": [
        "print(\"labels:{}\".format(ytrain[8000]))\n",
        "plt.imshow(xtrain[8000],cmap='gray')"
      ],
      "metadata": {
        "colab": {
          "base_uri": "https://localhost:8080/",
          "height": 300
        },
        "id": "7GZZ610-xfQH",
        "outputId": "ad6927c0-7b68-4c1b-d26d-676aa641fe52"
      },
      "execution_count": 9,
      "outputs": [
        {
          "output_type": "stream",
          "name": "stdout",
          "text": [
            "labels:0\n"
          ]
        },
        {
          "output_type": "execute_result",
          "data": {
            "text/plain": [
              "<matplotlib.image.AxesImage at 0x7fbeb2259b80>"
            ]
          },
          "metadata": {},
          "execution_count": 9
        },
        {
          "output_type": "display_data",
          "data": {
            "text/plain": [
              "<Figure size 432x288 with 1 Axes>"
            ],
            "image/png": "[encoded data removed]"
          },
          "metadata": {
            "needs_background": "light"
          }
        }
      ]
    },
    {
      "cell_type": "code",
      "source": [
        "index=np.random.randint(0,xtrain.shape[0],size =25)\n",
        "images=xtrain[index]\n",
        "labels=ytrain[index]\n",
        "\n",
        "plt.figure(figsize=(5,5))\n",
        "for i in range(len(index)):\n",
        "    plt.subplot(5,5,i+1)\n",
        "    image=images[i]\n",
        "    plt.imshow(image,cmap='gray')\n",
        "    plt.axis('off')\n",
        "    \n",
        "plt.show()"
      ],
      "metadata": {
        "colab": {
          "base_uri": "https://localhost:8080/",
          "height": 303
        },
        "id": "_nlLzG6Wx1iC",
        "outputId": "5aac3836-3b59-4ad0-8f21-b4240be53e5e"
      },
      "execution_count": 11,
      "outputs": [
        {
          "output_type": "display_data",
          "data": {
            "text/plain": [
              "<Figure size 360x360 with 25 Axes>"
            ],
            "image/png": "[encoded data removed]"
          },
          "metadata": {
            "needs_background": "light"
          }
        }
      ]
    },
    {
      "cell_type": "code",
      "source": [
        "print(xtrain.shape)\n",
        "print(ytrain.shape)\n",
        "print(xtest.shape)\n",
        "print(ytest.shape)"
      ],
      "metadata": {
        "colab": {
          "base_uri": "https://localhost:8080/"
        },
        "id": "Ydxt9wWTyUzE",
        "outputId": "4250fb5e-ef73-482c-da55-4f0bdabff6aa"
      },
      "execution_count": 12,
      "outputs": [
        {
          "output_type": "stream",
          "name": "stdout",
          "text": [
            "(60000, 28, 28)\n",
            "(60000,)\n",
            "(10000, 28, 28)\n",
            "(10000,)\n"
          ]
        }
      ]
    },
    {
      "cell_type": "markdown",
      "source": [
        "**Reshape train and test data into compatible shape that is (number of examples, hight, width, channel)**\n"
      ],
      "metadata": {
        "id": "0SS1a4fQzsYf"
      }
    },
    {
      "cell_type": "code",
      "source": [
        "xtrain=xtrain.reshape(xtrain.shape[0],28,28,1)\n",
        "xtest=xtest.reshape(xtest.shape[0],28,28,1)"
      ],
      "metadata": {
        "id": "4lHsUwGqy4ZT"
      },
      "execution_count": 14,
      "outputs": []
    },
    {
      "cell_type": "code",
      "source": [
        "print(xtrain.shape)\n",
        "print(xtest.shape)"
      ],
      "metadata": {
        "colab": {
          "base_uri": "https://localhost:8080/"
        },
        "id": "GFod3EJx0IKe",
        "outputId": "dc9a8ecd-4665-43e4-f5a6-48f4c79f63ce"
      },
      "execution_count": 15,
      "outputs": [
        {
          "output_type": "stream",
          "name": "stdout",
          "text": [
            "(60000, 28, 28, 1)\n",
            "(10000, 28, 28, 1)\n"
          ]
        }
      ]
    },
    {
      "cell_type": "markdown",
      "source": [
        "**normalizing data**"
      ],
      "metadata": {
        "id": "lHC5F02L0VXH"
      }
    },
    {
      "cell_type": "code",
      "source": [
        "Xtrain=xtrain.astype('float32')\n",
        "xtest=xtest.astype('float32')\n",
        "xtrain= xtrain/255\n",
        "xtest= xtest/255"
      ],
      "metadata": {
        "id": "BTuGvgxQ0T21"
      },
      "execution_count": 27,
      "outputs": []
    },
    {
      "cell_type": "markdown",
      "source": [
        "**one-hot encode the class vector**"
      ],
      "metadata": {
        "id": "R47v2zxs2a7C"
      }
    },
    {
      "cell_type": "code",
      "source": [
        "ytrain=to_categorical(ytrain,num_classes=10)\n",
        "ytest=to_categorical(ytest,num_classes=10)"
      ],
      "metadata": {
        "id": "7cSjyl3R0yQV"
      },
      "execution_count": 31,
      "outputs": []
    },
    {
      "cell_type": "markdown",
      "source": [
        "**Building Convolutional Neural Network**"
      ],
      "metadata": {
        "id": "pVrKVoJM3DHU"
      }
    },
    {
      "cell_type": "code",
      "source": [
        "mnist=Sequential()\n",
        "mnist.add(Conv2D(filters=32,kernel_size=3,activation=\"relu\",input_shape=(28,28,1)))\n",
        "mnist.add(Conv2D(filters=32,kernel_size=3,activation=\"relu\"))\n",
        "mnist.add(Flatten()) \n",
        "mnist.add(Dense(128,activation=\"relu\"))\n",
        "mnist.add(Dense(10,activation=\"softmax\"))"
      ],
      "metadata": {
        "id": "-rxIfwYM1YQd"
      },
      "execution_count": 39,
      "outputs": []
    },
    {
      "cell_type": "markdown",
      "source": [
        "**compile and fit the model**"
      ],
      "metadata": {
        "id": "pdPhNPM36GxZ"
      }
    },
    {
      "cell_type": "code",
      "source": [
        "mnist.compile(loss=\"categorical_crossentropy\",optimizer=\"adam\",metrics=[\"accuracy\"])\n",
        "h=mnist.fit(xtrain,ytrain, epochs=10, batch_size=32, validation_split=0.3)"
      ],
      "metadata": {
        "colab": {
          "base_uri": "https://localhost:8080/"
        },
        "id": "zndkw__z4-h3",
        "outputId": "eb7df1d2-c345-4845-8642-e707c79514bb"
      },
      "execution_count": 44,
      "outputs": [
        {
          "output_type": "stream",
          "name": "stdout",
          "text": [
            "Epoch 1/10\n",
            "1313/1313 [==============================] - 9s 6ms/step - loss: 0.0051 - accuracy: 0.9984 - val_loss: 0.1016 - val_accuracy: 0.9855\n",
            "Epoch 2/10\n",
            "1313/1313 [==============================] - 7s 5ms/step - loss: 0.0042 - accuracy: 0.9987 - val_loss: 0.0935 - val_accuracy: 0.9838\n",
            "Epoch 3/10\n",
            "1313/1313 [==============================] - 7s 5ms/step - loss: 0.0029 - accuracy: 0.9992 - val_loss: 0.0784 - val_accuracy: 0.9867\n",
            "Epoch 4/10\n",
            "1313/1313 [==============================] - 7s 5ms/step - loss: 0.0022 - accuracy: 0.9994 - val_loss: 0.1023 - val_accuracy: 0.9841\n",
            "Epoch 5/10\n",
            "1313/1313 [==============================] - 7s 5ms/step - loss: 0.0050 - accuracy: 0.9987 - val_loss: 0.1095 - val_accuracy: 0.9840\n",
            "Epoch 6/10\n",
            "1313/1313 [==============================] - 8s 6ms/step - loss: 0.0035 - accuracy: 0.9990 - val_loss: 0.0949 - val_accuracy: 0.9867\n",
            "Epoch 7/10\n",
            "1313/1313 [==============================] - 7s 5ms/step - loss: 0.0024 - accuracy: 0.9994 - val_loss: 0.0874 - val_accuracy: 0.9866\n",
            "Epoch 8/10\n",
            "1313/1313 [==============================] - 8s 6ms/step - loss: 0.0036 - accuracy: 0.9990 - val_loss: 0.1118 - val_accuracy: 0.9848\n",
            "Epoch 9/10\n",
            "1313/1313 [==============================] - 8s 6ms/step - loss: 0.0022 - accuracy: 0.9994 - val_loss: 0.1125 - val_accuracy: 0.9878\n",
            "Epoch 10/10\n",
            "1313/1313 [==============================] - 7s 6ms/step - loss: 0.0017 - accuracy: 0.9995 - val_loss: 0.1317 - val_accuracy: 0.9837\n"
          ]
        }
      ]
    },
    {
      "cell_type": "code",
      "source": [
        "loss,acc=mnist.evaluate(xtest,ytest)\n",
        "print(\"test accuracy:\",acc)\n",
        "print(\"test loss:\",loss)"
      ],
      "metadata": {
        "colab": {
          "base_uri": "https://localhost:8080/"
        },
        "id": "d6w3kDi372E0",
        "outputId": "e31c9fdc-2504-4e1e-f4a7-cb863101d159"
      },
      "execution_count": 45,
      "outputs": [
        {
          "output_type": "stream",
          "name": "stdout",
          "text": [
            "313/313 [==============================] - 1s 3ms/step - loss: 0.1068 - accuracy: 0.9856\n",
            "test accuracy: 0.9855999946594238\n",
            "test loss: 0.10676281899213791\n"
          ]
        }
      ]
    },
    {
      "cell_type": "code",
      "source": [
        "loss,acc=mnist.evaluate(xtrain,ytrain)\n",
        "print(\"test accuracy:\",acc)\n",
        "print(\"test loss:\",loss)"
      ],
      "metadata": {
        "colab": {
          "base_uri": "https://localhost:8080/"
        },
        "id": "eAiW2C448UAA",
        "outputId": "85502fb7-829f-4194-8e84-27e24e3b0d96"
      },
      "execution_count": 46,
      "outputs": [
        {
          "output_type": "stream",
          "name": "stdout",
          "text": [
            "1875/1875 [==============================] - 5s 3ms/step - loss: 0.0433 - accuracy: 0.9940\n",
            "test accuracy: 0.9940166473388672\n",
            "test loss: 0.04334113374352455\n"
          ]
        }
      ]
    },
    {
      "cell_type": "code",
      "source": [
        "epochs=np.arange(0, len(h.history['loss']))\n",
        "plt.figure(figsize=(10,8))\n",
        "\n",
        "\n",
        "plt.style.use(\"ggplot\")\n",
        "plt.plot(epochs,h.history[\"loss\"],label=\"train_loss\")\n",
        "plt.plot(epochs,h.history[\"val_loss\"], label=\"val_loss\")\n",
        "plt.title(\"Training and val loss\")\n",
        "plt.xlabel(\"eplochs\")\n",
        "plt.ylabel(\"loss\")\n",
        "plt.legend()"
      ],
      "metadata": {
        "colab": {
          "base_uri": "https://localhost:8080/",
          "height": 534
        },
        "id": "wC2VWDNe8Y1a",
        "outputId": "5317081f-4bd4-47c8-84d5-eb52ceef171a"
      },
      "execution_count": 47,
      "outputs": [
        {
          "output_type": "execute_result",
          "data": {
            "text/plain": [
              "<matplotlib.legend.Legend at 0x7fbeae90b910>"
            ]
          },
          "metadata": {},
          "execution_count": 47
        },
        {
          "output_type": "display_data",
          "data": {
            "text/plain": [
              "<Figure size 720x576 with 1 Axes>"
            ],
            "image/png": "[encoded data removed]"
          },
          "metadata": {
            "needs_background": "light"
          }
        }
      ]
    },
    {
      "cell_type": "markdown",
      "source": [
        "**vanilla CNN+pooling+dropout**"
      ],
      "metadata": {
        "id": "PkjK6WGi9EFy"
      }
    },
    {
      "cell_type": "code",
      "source": [
        "from keras.layers import Dropout\n",
        "mnist=Sequential()\n",
        "mnist.add(Conv2D(filters=32,kernel_size=3,activation=\"relu\",input_shape=(28,28,1)))\n",
        "mnist.add(Conv2D(filters=32,kernel_size=3,activation=\"relu\"))\n",
        "mnist.add(MaxPooling2D(pool_size=(2,2)))\n",
        "mnist.add(Dropout(rate=0.2))\n",
        "mnist.add(Flatten()) \n",
        "mnist.add(Dense(128,activation=\"relu\"))\n",
        "#mnist.add(Dropout(rate=0.2))\n",
        "mnist.add(Dense(10,activation=\"softmax\"))"
      ],
      "metadata": {
        "id": "v_hTWiHE9DM7"
      },
      "execution_count": 91,
      "outputs": []
    },
    {
      "cell_type": "code",
      "source": [
        "mnist.compile(loss='categorical_crossentropy',optimizer='adam', metrics=['accuracy'])\n",
        "h=mnist.fit(xtrain,ytrain, epochs=10, batch_size=32, validation_split=0.3)"
      ],
      "metadata": {
        "colab": {
          "base_uri": "https://localhost:8080/"
        },
        "id": "sZFS_Q_z-KLv",
        "outputId": "8d32b690-7998-4d87-e518-cb30862c406d"
      },
      "execution_count": 92,
      "outputs": [
        {
          "output_type": "stream",
          "name": "stdout",
          "text": [
            "Epoch 1/10\n",
            "1313/1313 [==============================] - 8s 5ms/step - loss: 0.1484 - accuracy: 0.9554 - val_loss: 0.0705 - val_accuracy: 0.9780\n",
            "Epoch 2/10\n",
            "1313/1313 [==============================] - 7s 5ms/step - loss: 0.0500 - accuracy: 0.9843 - val_loss: 0.0618 - val_accuracy: 0.9817\n",
            "Epoch 3/10\n",
            "1313/1313 [==============================] - 6s 5ms/step - loss: 0.0334 - accuracy: 0.9890 - val_loss: 0.0523 - val_accuracy: 0.9846\n",
            "Epoch 4/10\n",
            "1313/1313 [==============================] - 7s 5ms/step - loss: 0.0238 - accuracy: 0.9918 - val_loss: 0.0484 - val_accuracy: 0.9863\n",
            "Epoch 5/10\n",
            "1313/1313 [==============================] - 7s 5ms/step - loss: 0.0173 - accuracy: 0.9938 - val_loss: 0.0617 - val_accuracy: 0.9839\n",
            "Epoch 6/10\n",
            "1313/1313 [==============================] - 7s 5ms/step - loss: 0.0152 - accuracy: 0.9950 - val_loss: 0.0527 - val_accuracy: 0.9861\n",
            "Epoch 7/10\n",
            "1313/1313 [==============================] - 8s 6ms/step - loss: 0.0110 - accuracy: 0.9964 - val_loss: 0.0588 - val_accuracy: 0.9866\n",
            "Epoch 8/10\n",
            "1313/1313 [==============================] - 7s 5ms/step - loss: 0.0107 - accuracy: 0.9969 - val_loss: 0.0526 - val_accuracy: 0.9879\n",
            "Epoch 9/10\n",
            "1313/1313 [==============================] - 7s 5ms/step - loss: 0.0103 - accuracy: 0.9970 - val_loss: 0.0450 - val_accuracy: 0.9881\n",
            "Epoch 10/10\n",
            "1313/1313 [==============================] - 7s 5ms/step - loss: 0.0085 - accuracy: 0.9971 - val_loss: 0.0570 - val_accuracy: 0.9879\n"
          ]
        }
      ]
    },
    {
      "cell_type": "code",
      "source": [
        "loss,acc=mnist.evaluate(xtest,ytest)\n",
        "print(\"test accuracy:\",acc)\n",
        "print(\"test loss:\",loss)"
      ],
      "metadata": {
        "colab": {
          "base_uri": "https://localhost:8080/"
        },
        "id": "DhkSdQAm-9ls",
        "outputId": "ba720a40-1ffc-4225-9e37-83293271d1f3"
      },
      "execution_count": 93,
      "outputs": [
        {
          "output_type": "stream",
          "name": "stdout",
          "text": [
            "313/313 [==============================] - 1s 3ms/step - loss: 0.0481 - accuracy: 0.9897\n",
            "test accuracy: 0.9897000193595886\n",
            "test loss: 0.048102814704179764\n"
          ]
        }
      ]
    },
    {
      "cell_type": "code",
      "source": [
        "loss,acc=mnist.evaluate(xtrain,ytrain)\n",
        "print(\"test accuracy:\",acc)\n",
        "print(\"test loss:\",loss)"
      ],
      "metadata": {
        "colab": {
          "base_uri": "https://localhost:8080/"
        },
        "id": "YtJfMxHw_Y8q",
        "outputId": "9f5ffb6a-361c-4848-8ddf-365f9a257b97"
      },
      "execution_count": 94,
      "outputs": [
        {
          "output_type": "stream",
          "name": "stdout",
          "text": [
            "1875/1875 [==============================] - 5s 3ms/step - loss: 0.0195 - accuracy: 0.9956\n",
            "test accuracy: 0.9955999851226807\n",
            "test loss: 0.019518859684467316\n"
          ]
        }
      ]
    },
    {
      "cell_type": "code",
      "source": [
        "epochs=np.arange(0, len(h.history['loss']))\n",
        "plt.figure(figsize=(10,8))\n",
        "\n",
        "\n",
        "plt.style.use(\"ggplot\")\n",
        "plt.plot(epochs,h.history[\"loss\"],label=\"train_loss\")\n",
        "plt.plot(epochs,h.history[\"val_loss\"], label=\"val_loss\")\n",
        "plt.title(\"Training and val loss\")\n",
        "plt.xlabel(\"eplochs\")\n",
        "plt.ylabel(\"loss\")\n",
        "plt.legend()"
      ],
      "metadata": {
        "colab": {
          "base_uri": "https://localhost:8080/",
          "height": 534
        },
        "id": "HO8wQCq9_aqb",
        "outputId": "40afd157-db17-4c2c-a0cb-e4616e842386"
      },
      "execution_count": 95,
      "outputs": [
        {
          "output_type": "execute_result",
          "data": {
            "text/plain": [
              "<matplotlib.legend.Legend at 0x7fbdf8493700>"
            ]
          },
          "metadata": {},
          "execution_count": 95
        },
        {
          "output_type": "display_data",
          "data": {
            "text/plain": [
              "<Figure size 720x576 with 1 Axes>"
            ],
            "image/png": "[encoded data removed]"
          },
          "metadata": {}
        }
      ]
    },
    {
      "cell_type": "code",
      "source": [
        "plt.imshow(xtest[78].reshape(28,28),cmap='gray')\n",
        "ypred=mnist.predict(xtest[78].reshape(1,28,28,1))\n",
        "print(\"predicted label:\",ypred.argmax())\n",
        "print(\"output:\",ypred)\n",
        "print(ypred.sum())"
      ],
      "metadata": {
        "colab": {
          "base_uri": "https://localhost:8080/",
          "height": 352
        },
        "id": "LxxBiCoc_cF4",
        "outputId": "b6a0f934-263e-4889-aed3-d01aa96f1c8d"
      },
      "execution_count": 97,
      "outputs": [
        {
          "output_type": "stream",
          "name": "stdout",
          "text": [
            "1/1 [==============================] - 0s 63ms/step\n",
            "predicted label: 9\n",
            "output: [[2.3332451e-11 8.1707618e-10 2.4217536e-10 1.1996779e-11 5.2726491e-06\n",
            "  1.0499277e-12 1.0923842e-14 5.1241320e-11 3.8281592e-05 9.9995649e-01]]\n",
            "1.0\n"
          ]
        },
        {
          "output_type": "display_data",
          "data": {
            "text/plain": [
              "<Figure size 432x288 with 1 Axes>"
            ],
            "image/png": "[encoded data removed]"
          },
          "metadata": {}
        }
      ]
    },
    {
      "cell_type": "code",
      "source": [],
      "metadata": {
        "id": "WH9qeo97EcBI"
      },
      "execution_count": null,
      "outputs": []
    }
  ]
}